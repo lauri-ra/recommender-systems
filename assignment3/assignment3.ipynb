{
 "cells": [
  {
   "cell_type": "markdown",
   "metadata": {},
   "source": [
    "# Assignment 3 - DATA.ML.360"
   ]
  },
  {
   "cell_type": "code",
   "execution_count": 3,
   "metadata": {},
   "outputs": [
    {
     "name": "stdout",
     "output_type": "stream",
     "text": [
      "Requirement already satisfied: pandas in ./a3_venv/lib/python3.9/site-packages (2.1.3)\n",
      "Requirement already satisfied: numpy<2,>=1.22.4 in ./a3_venv/lib/python3.9/site-packages (from pandas) (1.26.2)\n",
      "Requirement already satisfied: pytz>=2020.1 in ./a3_venv/lib/python3.9/site-packages (from pandas) (2023.3.post1)\n",
      "Requirement already satisfied: python-dateutil>=2.8.2 in ./a3_venv/lib/python3.9/site-packages (from pandas) (2.8.2)\n",
      "Requirement already satisfied: tzdata>=2022.1 in ./a3_venv/lib/python3.9/site-packages (from pandas) (2023.3)\n",
      "Requirement already satisfied: six>=1.5 in ./a3_venv/lib/python3.9/site-packages (from python-dateutil>=2.8.2->pandas) (1.16.0)\n",
      "\u001b[33mWARNING: You are using pip version 21.2.4; however, version 23.3.1 is available.\n",
      "You should consider upgrading via the '/Users/laurira/uni/recsys/assignment3/a3_venv/bin/python -m pip install --upgrade pip' command.\u001b[0m\n",
      "Note: you may need to restart the kernel to use updated packages.\n",
      "Requirement already satisfied: surprise in ./a3_venv/lib/python3.9/site-packages (0.1)\n",
      "Requirement already satisfied: scikit-surprise in ./a3_venv/lib/python3.9/site-packages (from surprise) (1.1.3)\n",
      "Requirement already satisfied: joblib>=1.0.0 in ./a3_venv/lib/python3.9/site-packages (from scikit-surprise->surprise) (1.3.2)\n",
      "Requirement already satisfied: numpy>=1.17.3 in ./a3_venv/lib/python3.9/site-packages (from scikit-surprise->surprise) (1.26.2)\n",
      "Requirement already satisfied: scipy>=1.3.2 in ./a3_venv/lib/python3.9/site-packages (from scikit-surprise->surprise) (1.11.4)\n",
      "\u001b[33mWARNING: You are using pip version 21.2.4; however, version 23.3.1 is available.\n",
      "You should consider upgrading via the '/Users/laurira/uni/recsys/assignment3/a3_venv/bin/python -m pip install --upgrade pip' command.\u001b[0m\n",
      "Note: you may need to restart the kernel to use updated packages.\n"
     ]
    }
   ],
   "source": [
    "%pip install pandas\n",
    "%pip install surprise\n",
    "\n",
    "import pandas as pd"
   ]
  },
  {
   "cell_type": "code",
   "execution_count": 4,
   "metadata": {},
   "outputs": [
    {
     "data": {
      "text/html": [
       "<div>\n",
       "<style scoped>\n",
       "    .dataframe tbody tr th:only-of-type {\n",
       "        vertical-align: middle;\n",
       "    }\n",
       "\n",
       "    .dataframe tbody tr th {\n",
       "        vertical-align: top;\n",
       "    }\n",
       "\n",
       "    .dataframe thead th {\n",
       "        text-align: right;\n",
       "    }\n",
       "</style>\n",
       "<table border=\"1\" class=\"dataframe\">\n",
       "  <thead>\n",
       "    <tr style=\"text-align: right;\">\n",
       "      <th></th>\n",
       "      <th>user_id</th>\n",
       "      <th>movie_id</th>\n",
       "      <th>rating</th>\n",
       "    </tr>\n",
       "  </thead>\n",
       "  <tbody>\n",
       "    <tr>\n",
       "      <th>0</th>\n",
       "      <td>196</td>\n",
       "      <td>242</td>\n",
       "      <td>3</td>\n",
       "    </tr>\n",
       "    <tr>\n",
       "      <th>1</th>\n",
       "      <td>186</td>\n",
       "      <td>302</td>\n",
       "      <td>3</td>\n",
       "    </tr>\n",
       "    <tr>\n",
       "      <th>2</th>\n",
       "      <td>22</td>\n",
       "      <td>377</td>\n",
       "      <td>1</td>\n",
       "    </tr>\n",
       "    <tr>\n",
       "      <th>3</th>\n",
       "      <td>244</td>\n",
       "      <td>51</td>\n",
       "      <td>2</td>\n",
       "    </tr>\n",
       "    <tr>\n",
       "      <th>4</th>\n",
       "      <td>166</td>\n",
       "      <td>346</td>\n",
       "      <td>1</td>\n",
       "    </tr>\n",
       "  </tbody>\n",
       "</table>\n",
       "</div>"
      ],
      "text/plain": [
       "   user_id  movie_id  rating\n",
       "0      196       242       3\n",
       "1      186       302       3\n",
       "2       22       377       1\n",
       "3      244        51       2\n",
       "4      166       346       1"
      ]
     },
     "execution_count": 4,
     "metadata": {},
     "output_type": "execute_result"
    }
   ],
   "source": [
    "# Read the data file and see how it looks like\n",
    "df = pd.read_csv('u.data', sep='\\t', header=None)\n",
    "\n",
    "# Add column names and check few rows of the dataset\n",
    "df.columns = [\"user_id\", \"movie_id\", \"rating\", \"timestamp\"]\n",
    "df = df.drop(\"timestamp\", axis=1)\n",
    "\n",
    "df.head()"
   ]
  },
  {
   "cell_type": "markdown",
   "metadata": {},
   "source": [
    "### Singular Value Decomposition (SVD)\n",
    "Matrix factorization\n",
    "Explanation here, what and why\n",
    "\n",
    "Steps:\n",
    "- Train the model sequentially\n",
    "- Create group recommendations for that sequence\n",
    "- Lump the sequences recommendations together, get top 10 recommendations\n",
    "\n",
    "Sources used:\n",
    "\n",
    "https://gregorygundersen.com/blog/2018/12/10/svd/#:~:text=The%20singular%20values%20referred%20to,our%20transformation%20flattens%20our%20square.\n",
    "\n",
    "https://towardsdatascience.com/how-to-build-a-movie-recommendation-system-67e321339109\n",
    "\n",
    "https://www.math3ma.com/blog/understanding-entanglement-with-svd\n"
   ]
  },
  {
   "cell_type": "code",
   "execution_count": 132,
   "metadata": {},
   "outputs": [],
   "source": [
    "from surprise import Dataset\n",
    "from surprise import Reader\n",
    "from surprise import SVD\n",
    "\n",
    "def create_group_recommendations(users):\n",
    "    # Create a dataset\n",
    "    reader = Reader(rating_scale=(1, 5))\n",
    "\n",
    "    # Save recommendations from each sequence here\n",
    "    group_recommendations = []\n",
    "\n",
    "    # Loop through sequences\n",
    "    for round in range(3):\n",
    "        # Train the dataset for each round\n",
    "        data = Dataset.load_from_df(df[['user_id', 'movie_id', 'rating']], reader)\n",
    "        trainset = data.build_full_trainset()\n",
    "\n",
    "        # Intialize the svd algorithm and train the dataset\n",
    "        svd = SVD()\n",
    "        svd.fit(trainset)\n",
    "\n",
    "        # Go thorugh each user and create predictions.\n",
    "        for user_id in users:\n",
    "            # Get movies that user hasnt rated yet\n",
    "            user_ratings = df[df['user_id'] == user_id]\n",
    "            user_unrated_movies = df[~df['movie_id'].isin(user_ratings['movie_id'])]['movie_id'].unique()\n",
    "\n",
    "            user_recommendations = []\n",
    "\n",
    "            # Loop through the unrated movies\n",
    "            for movie_id in user_unrated_movies:\n",
    "                # Create a predicted score for the movie\n",
    "                prediction = svd.predict(user_id, movie_id)\n",
    "                # Add it to the recommendations\n",
    "                user_recommendations.append((user_id, movie_id, prediction.est))\n",
    "\n",
    "            # Retrun the top 10 best rated predictions\n",
    "            user_recommendations = sorted(user_recommendations, key=lambda x: x[2], reverse=True)[:10]\n",
    "            group_recommendations.extend(user_recommendations)\n",
    "\n",
    "    return group_recommendations\n",
    "\n",
    "user_list = [1, 2, 3, 5, 6, 7, 8, 9, 10]\n",
    "result = create_group_recommendations(user_list)\n",
    "\n",
    "# thing = pd.DataFrame(result, columns=[\"user_id\", \"movie_id\", \"predicted_rating\"])\n",
    "# thing = thing.groupby('movie_id')['predicted_rating'].mean()\n",
    "# thing = thing.sort_values(ascending=False)[:10]\n",
    "# display(thing)\n"
   ]
  },
  {
   "cell_type": "markdown",
   "metadata": {},
   "source": [
    "### Average Weighted ratings\n",
    "\n",
    "Modified method for sequential recommendations"
   ]
  },
  {
   "cell_type": "code",
   "execution_count": 133,
   "metadata": {},
   "outputs": [
    {
     "data": {
      "text/plain": [
       "movie_id\n",
       "59      4.997454\n",
       "170     4.942098\n",
       "22      4.941217\n",
       "173     4.920384\n",
       "427     4.852079\n",
       "302     4.845650\n",
       "169     4.844958\n",
       "1142    4.839546\n",
       "318     4.838508\n",
       "272     4.804268\n",
       "dtype: float64"
      ]
     },
     "metadata": {},
     "output_type": "display_data"
    }
   ],
   "source": [
    "# Select a set of users and create recommendations for them\n",
    "user_list = [1, 2, 3, 5, 6, 7, 8, 9, 10]\n",
    "result = create_group_recommendations(user_list)\n",
    "\n",
    "# Create a dataframe from the results\n",
    "group_df = pd.DataFrame(result, columns=[\"user_id\", \"movie_id\", \"predicted_rating\"])\n",
    "\n",
    "# Create a dataframe for user weights &\n",
    "# calculate the weight for each user from their average predicted rating\n",
    "user_weights = group_df.groupby('user_id')['predicted_rating'].mean().reset_index()\n",
    "user_weights.columns = ['user_id', 'weight']\n",
    "\n",
    "# Merge weights with the original group recommendations\n",
    "group_df = pd.merge(group_df, user_weights, on='user_id', how='left')\n",
    "\n",
    "# Multioply the original prediction with the user weight -> weighted rating for each item\n",
    "group_df['weighted_rating'] = group_df['predicted_rating'] * group_df['weight']\n",
    "\n",
    "# Divide total weighted ratings by total weights -> average rating for each tiem\n",
    "weighted_ratings = group_df.groupby('movie_id')['weighted_rating'].sum() / group_df.groupby('movie_id')['weight'].sum()\n",
    "\n",
    "# Get top 10 recommendations based on the weighted average ratings\n",
    "top_recommendations = weighted_ratings.sort_values(ascending=False)[:10]\n",
    "display(top_recommendations)"
   ]
  }
 ],
 "metadata": {
  "kernelspec": {
   "display_name": "Python 3",
   "language": "python",
   "name": "python3"
  },
  "language_info": {
   "codemirror_mode": {
    "name": "ipython",
    "version": 3
   },
   "file_extension": ".py",
   "mimetype": "text/x-python",
   "name": "python",
   "nbconvert_exporter": "python",
   "pygments_lexer": "ipython3",
   "version": "3.9.6"
  }
 },
 "nbformat": 4,
 "nbformat_minor": 2
}
