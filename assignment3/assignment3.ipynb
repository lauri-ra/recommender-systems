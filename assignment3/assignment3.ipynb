{
 "cells": [
  {
   "cell_type": "markdown",
   "metadata": {},
   "source": [
    "# Assignment 3 - DATA.ML.360"
   ]
  },
  {
   "cell_type": "code",
   "execution_count": 1,
   "metadata": {},
   "outputs": [
    {
     "name": "stdout",
     "output_type": "stream",
     "text": [
      "Requirement already satisfied: pandas in ./a3_venv/lib/python3.9/site-packages (2.1.3)\n",
      "Requirement already satisfied: pytz>=2020.1 in ./a3_venv/lib/python3.9/site-packages (from pandas) (2023.3.post1)\n",
      "Requirement already satisfied: python-dateutil>=2.8.2 in ./a3_venv/lib/python3.9/site-packages (from pandas) (2.8.2)\n",
      "Requirement already satisfied: numpy<2,>=1.22.4 in ./a3_venv/lib/python3.9/site-packages (from pandas) (1.26.2)\n",
      "Requirement already satisfied: tzdata>=2022.1 in ./a3_venv/lib/python3.9/site-packages (from pandas) (2023.3)\n",
      "Requirement already satisfied: six>=1.5 in ./a3_venv/lib/python3.9/site-packages (from python-dateutil>=2.8.2->pandas) (1.16.0)\n",
      "\u001b[33mWARNING: You are using pip version 21.2.4; however, version 23.3.1 is available.\n",
      "You should consider upgrading via the '/Users/laurira/uni/recsys/assignment3/a3_venv/bin/python -m pip install --upgrade pip' command.\u001b[0m\n",
      "Note: you may need to restart the kernel to use updated packages.\n",
      "Requirement already satisfied: surprise in ./a3_venv/lib/python3.9/site-packages (0.1)\n",
      "Requirement already satisfied: scikit-surprise in ./a3_venv/lib/python3.9/site-packages (from surprise) (1.1.3)\n",
      "Requirement already satisfied: joblib>=1.0.0 in ./a3_venv/lib/python3.9/site-packages (from scikit-surprise->surprise) (1.3.2)\n",
      "Requirement already satisfied: numpy>=1.17.3 in ./a3_venv/lib/python3.9/site-packages (from scikit-surprise->surprise) (1.26.2)\n",
      "Requirement already satisfied: scipy>=1.3.2 in ./a3_venv/lib/python3.9/site-packages (from scikit-surprise->surprise) (1.11.4)\n",
      "\u001b[33mWARNING: You are using pip version 21.2.4; however, version 23.3.1 is available.\n",
      "You should consider upgrading via the '/Users/laurira/uni/recsys/assignment3/a3_venv/bin/python -m pip install --upgrade pip' command.\u001b[0m\n",
      "Note: you may need to restart the kernel to use updated packages.\n"
     ]
    }
   ],
   "source": [
    "%pip install pandas\n",
    "%pip install surprise\n",
    "\n",
    "import pandas as pd"
   ]
  },
  {
   "cell_type": "code",
   "execution_count": 2,
   "metadata": {},
   "outputs": [
    {
     "data": {
      "text/html": [
       "<div>\n",
       "<style scoped>\n",
       "    .dataframe tbody tr th:only-of-type {\n",
       "        vertical-align: middle;\n",
       "    }\n",
       "\n",
       "    .dataframe tbody tr th {\n",
       "        vertical-align: top;\n",
       "    }\n",
       "\n",
       "    .dataframe thead th {\n",
       "        text-align: right;\n",
       "    }\n",
       "</style>\n",
       "<table border=\"1\" class=\"dataframe\">\n",
       "  <thead>\n",
       "    <tr style=\"text-align: right;\">\n",
       "      <th></th>\n",
       "      <th>user_id</th>\n",
       "      <th>movie_id</th>\n",
       "      <th>rating</th>\n",
       "    </tr>\n",
       "  </thead>\n",
       "  <tbody>\n",
       "    <tr>\n",
       "      <th>0</th>\n",
       "      <td>196</td>\n",
       "      <td>242</td>\n",
       "      <td>3</td>\n",
       "    </tr>\n",
       "    <tr>\n",
       "      <th>1</th>\n",
       "      <td>186</td>\n",
       "      <td>302</td>\n",
       "      <td>3</td>\n",
       "    </tr>\n",
       "    <tr>\n",
       "      <th>2</th>\n",
       "      <td>22</td>\n",
       "      <td>377</td>\n",
       "      <td>1</td>\n",
       "    </tr>\n",
       "    <tr>\n",
       "      <th>3</th>\n",
       "      <td>244</td>\n",
       "      <td>51</td>\n",
       "      <td>2</td>\n",
       "    </tr>\n",
       "    <tr>\n",
       "      <th>4</th>\n",
       "      <td>166</td>\n",
       "      <td>346</td>\n",
       "      <td>1</td>\n",
       "    </tr>\n",
       "  </tbody>\n",
       "</table>\n",
       "</div>"
      ],
      "text/plain": [
       "   user_id  movie_id  rating\n",
       "0      196       242       3\n",
       "1      186       302       3\n",
       "2       22       377       1\n",
       "3      244        51       2\n",
       "4      166       346       1"
      ]
     },
     "execution_count": 2,
     "metadata": {},
     "output_type": "execute_result"
    }
   ],
   "source": [
    "# Read the data file and see how it looks like\n",
    "df = pd.read_csv('u.data', sep='\\t', header=None)\n",
    "\n",
    "# Add column names and check few rows of the dataset\n",
    "df.columns = [\"user_id\", \"movie_id\", \"rating\", \"timestamp\"]\n",
    "df = df.drop(\"timestamp\", axis=1)\n",
    "\n",
    "df.head()"
   ]
  },
  {
   "cell_type": "markdown",
   "metadata": {},
   "source": [
    "### Singular Value Decomposition (SVD)\n",
    "Matrix factorization\n",
    "Explanation here, what and why\n",
    "\n",
    "Steps:\n",
    "- Train the model sequentially\n",
    "- Create group recommendations for that sequence\n",
    "- Lump the sequences recommendations together, get top 10 recommendations\n",
    "\n",
    "Sources used:\n",
    "\n",
    "https://gregorygundersen.com/blog/2018/12/10/svd/#:~:text=The%20singular%20values%20referred%20to,our%20transformation%20flattens%20our%20square.\n",
    "\n",
    "https://towardsdatascience.com/how-to-build-a-movie-recommendation-system-67e321339109\n",
    "\n",
    "https://www.math3ma.com/blog/understanding-entanglement-with-svd\n"
   ]
  },
  {
   "cell_type": "code",
   "execution_count": 32,
   "metadata": {},
   "outputs": [
    {
     "name": "stdout",
     "output_type": "stream",
     "text": [
      "[(1, 408, 5), (1, 479, 4.77760099984919), (1, 483, 4.75653924520784), (1, 313, 4.746511026980825), (1, 302, 4.696394793183123), (1, 513, 4.67342136448175), (1, 603, 4.650517486688044), (1, 462, 4.611269773786436), (1, 276, 4.590434970194301), (1, 963, 4.5768762131846925)]\n"
     ]
    },
    {
     "ename": "AttributeError",
     "evalue": "'list' object has no attribute 'groupby'",
     "output_type": "error",
     "traceback": [
      "\u001b[0;31m---------------------------------------------------------------------------\u001b[0m",
      "\u001b[0;31mAttributeError\u001b[0m                            Traceback (most recent call last)",
      "\u001b[1;32m/Users/laurira/uni/recsys/assignment3/assignment3.ipynb Cell 5\u001b[0m line \u001b[0;36m5\n\u001b[1;32m     <a href='vscode-notebook-cell:/Users/laurira/uni/recsys/assignment3/assignment3.ipynb#X12sZmlsZQ%3D%3D?line=50'>51</a>\u001b[0m     \u001b[39mreturn\u001b[39;00m group_recommendations\n\u001b[1;32m     <a href='vscode-notebook-cell:/Users/laurira/uni/recsys/assignment3/assignment3.ipynb#X12sZmlsZQ%3D%3D?line=53'>54</a>\u001b[0m user_list \u001b[39m=\u001b[39m [\u001b[39m1\u001b[39m,\u001b[39m2\u001b[39m,\u001b[39m3\u001b[39m]\n\u001b[0;32m---> <a href='vscode-notebook-cell:/Users/laurira/uni/recsys/assignment3/assignment3.ipynb#X12sZmlsZQ%3D%3D?line=54'>55</a>\u001b[0m gr \u001b[39m=\u001b[39m create_group_recommendations(user_list)\n\u001b[1;32m     <a href='vscode-notebook-cell:/Users/laurira/uni/recsys/assignment3/assignment3.ipynb#X12sZmlsZQ%3D%3D?line=56'>57</a>\u001b[0m \u001b[39m# Create a dataframe from the ratings\u001b[39;00m\n\u001b[1;32m     <a href='vscode-notebook-cell:/Users/laurira/uni/recsys/assignment3/assignment3.ipynb#X12sZmlsZQ%3D%3D?line=57'>58</a>\u001b[0m rating_df \u001b[39m=\u001b[39m pd\u001b[39m.\u001b[39mDataFrame(gr, columns\u001b[39m=\u001b[39m[\u001b[39m\"\u001b[39m\u001b[39muser_id\u001b[39m\u001b[39m\"\u001b[39m, \u001b[39m\"\u001b[39m\u001b[39mmovie_id\u001b[39m\u001b[39m\"\u001b[39m, \u001b[39m\"\u001b[39m\u001b[39mpredicted_rating\u001b[39m\u001b[39m\"\u001b[39m])\n",
      "\u001b[1;32m/Users/laurira/uni/recsys/assignment3/assignment3.ipynb Cell 5\u001b[0m line \u001b[0;36m4\n\u001b[1;32m     <a href='vscode-notebook-cell:/Users/laurira/uni/recsys/assignment3/assignment3.ipynb#X12sZmlsZQ%3D%3D?line=40'>41</a>\u001b[0m \u001b[39mprint\u001b[39m(user_recommendations)\n\u001b[1;32m     <a href='vscode-notebook-cell:/Users/laurira/uni/recsys/assignment3/assignment3.ipynb#X12sZmlsZQ%3D%3D?line=42'>43</a>\u001b[0m \u001b[39m# Group the recommendations by movies, and calculate the average rating for each\u001b[39;00m\n\u001b[0;32m---> <a href='vscode-notebook-cell:/Users/laurira/uni/recsys/assignment3/assignment3.ipynb#X12sZmlsZQ%3D%3D?line=43'>44</a>\u001b[0m sequence_ratings \u001b[39m=\u001b[39m user_recommendations\u001b[39m.\u001b[39;49mgroupby(\u001b[39m'\u001b[39m\u001b[39mmovie_id\u001b[39m\u001b[39m'\u001b[39m)[\u001b[39m'\u001b[39m\u001b[39mpredicted_rating\u001b[39m\u001b[39m'\u001b[39m]\u001b[39m.\u001b[39mmean()\n\u001b[1;32m     <a href='vscode-notebook-cell:/Users/laurira/uni/recsys/assignment3/assignment3.ipynb#X12sZmlsZQ%3D%3D?line=44'>45</a>\u001b[0m sequence_ratings \u001b[39m=\u001b[39m sequence_ratings\u001b[39m.\u001b[39msort_values(ascending\u001b[39m=\u001b[39m\u001b[39mFalse\u001b[39;00m)\n\u001b[1;32m     <a href='vscode-notebook-cell:/Users/laurira/uni/recsys/assignment3/assignment3.ipynb#X12sZmlsZQ%3D%3D?line=46'>47</a>\u001b[0m \u001b[39mprint\u001b[39m(sequence_ratings)\n",
      "\u001b[0;31mAttributeError\u001b[0m: 'list' object has no attribute 'groupby'"
     ]
    }
   ],
   "source": [
    "from surprise import Dataset\n",
    "from surprise import Reader\n",
    "from surprise import SVD\n",
    "from surprise.model_selection import train_test_split\n",
    "from surprise import accuracy\n",
    "\n",
    "def create_group_recommendations(users):\n",
    "    # Create a dataset\n",
    "    reader = Reader(rating_scale=(1, 5))\n",
    "\n",
    "    # Save recommendations from each sequence here\n",
    "    group_recommendations = []\n",
    "\n",
    "    # Loop through sequences\n",
    "    for round in range(3):\n",
    "        # Train the dataset for each round\n",
    "        data = Dataset.load_from_df(df[['user_id', 'movie_id', 'rating']], reader)\n",
    "        trainset = data.build_full_trainset()\n",
    "\n",
    "        # Intialize the svd algorithm and train the dataset\n",
    "        svd = SVD()\n",
    "        svd.fit(trainset)\n",
    "\n",
    "        # Go thorugh each user and create predictions.\n",
    "        for user_id in users:\n",
    "            # Get movies that user hasnt rated yet\n",
    "            user_ratings = df[df['user_id'] == user_id]\n",
    "            user_unrated_movies = df[~df['movie_id'].isin(user_ratings['movie_id'])]['movie_id'].unique()\n",
    "\n",
    "            user_recommendations = []\n",
    "\n",
    "            # Loop through the unrated movies\n",
    "            for movie_id in user_unrated_movies:\n",
    "                # Create a predicted score for the movie\n",
    "                prediction = svd.predict(user_id, movie_id)\n",
    "                # Add it to the recommendations\n",
    "                user_recommendations.append((user_id, movie_id, prediction.est))\n",
    "\n",
    "            # Retrun the top 10 best rated predictions\n",
    "            user_recommendations = sorted(user_recommendations, key=lambda x: x[2], reverse=True)[:10]\n",
    "            print(user_recommendations)\n",
    "\n",
    "            group_recommendations.extend(user_recommendations)\n",
    "\n",
    "    return group_recommendations\n",
    "\n",
    "\n",
    "user_list = [1,2,3]\n",
    "gr = create_group_recommendations(user_list)\n",
    "\n",
    "# Create a dataframe from the ratings\n",
    "rating_df = pd.DataFrame(gr, columns=[\"user_id\", \"movie_id\", \"predicted_rating\"])\n",
    "display(rating_df)\n"
   ]
  },
  {
   "cell_type": "code",
   "execution_count": null,
   "metadata": {},
   "outputs": [],
   "source": []
  }
 ],
 "metadata": {
  "kernelspec": {
   "display_name": "Python 3",
   "language": "python",
   "name": "python3"
  },
  "language_info": {
   "codemirror_mode": {
    "name": "ipython",
    "version": 3
   },
   "file_extension": ".py",
   "mimetype": "text/x-python",
   "name": "python",
   "nbconvert_exporter": "python",
   "pygments_lexer": "ipython3",
   "version": "3.9.6"
  }
 },
 "nbformat": 4,
 "nbformat_minor": 2
}
