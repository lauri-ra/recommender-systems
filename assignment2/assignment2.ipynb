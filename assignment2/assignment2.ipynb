{
 "cells": [
  {
   "cell_type": "code",
   "execution_count": 1,
   "metadata": {},
   "outputs": [
    {
     "name": "stdout",
     "output_type": "stream",
     "text": [
      "hello world\n"
     ]
    }
   ],
   "source": [
    "print(\"hello world\")"
   ]
  },
  {
   "cell_type": "code",
   "execution_count": null,
   "metadata": {},
   "outputs": [],
   "source": [
    "%pip install pandas\n",
    "\n",
    "import pandas as pd\n",
    "import numpy as np"
   ]
  },
  {
   "cell_type": "code",
   "execution_count": null,
   "metadata": {},
   "outputs": [],
   "source": [
    "# Read the data file and see how it looks like\n",
    "df = pd.read_csv('u.data', sep='\\t', header=None)\n",
    "\n",
    "# Add column names and check few rows of the dataset\n",
    "df.columns = [\"user_id\", \"item_id\", \"rating\", \"timestamp\"]\n",
    "df = df.drop(\"timestamp\", axis=1)\n",
    "\n",
    "# Create a matrix from the ratings. Each row represents an user and each column an item/movie.\n",
    "rating_matrix = df.pivot(index='user_id', columns='item_id', values='rating').fillna(0)\n",
    "\n",
    "# Calculate the Pearson correlation between two users ratings\n",
    "def pearson_correlation(user1_id, user2_id):\n",
    "    # Get common movies that both users have rated\n",
    "    common_movies = rating_matrix.columns[(rating_matrix.loc[user1_id] > 0) & (rating_matrix.loc[user2_id] > 0)]\n",
    "\n",
    "    # Get the ratings for the given users matching the common movies\n",
    "    user1_data = rating_matrix.loc[user1_id, common_movies]\n",
    "    user2_data = rating_matrix.loc[user2_id, common_movies]\n",
    "\n",
    "    # Compute the Pearson correlation between the ratings of the two users\n",
    "    pearson_correlation = np.corrcoef(user1_data, user2_data)[0][1]\n",
    "\n",
    "    return pearson_correlation\n",
    "\n",
    "def predict_rating(user_id, item_id):\n",
    "    # Get the users' ratings for the active user\n",
    "    active_user_ratings = rating_matrix.loc[user_id]\n",
    "\n",
    "    # Find neighbor ids who have rated the same item\n",
    "    item_ratings = rating_matrix[item_id]\n",
    "    neighbors = item_ratings[item_ratings > 0].index\n",
    "\n",
    "    # Calculate Pearson correlations for each neighbor\n",
    "    neighbor_correlations = {}\n",
    "    for neighbor_id in neighbors:\n",
    "        correlation = pearson_correlation(user_id, neighbor_id)\n",
    "        neighbor_correlations[neighbor_id] = correlation\n",
    "    \n",
    "    # Get the top 10 closest matching neighbors\n",
    "    top_neighbors = sorted(neighbor_correlations, key=neighbor_correlations.get, reverse=True)[:10]\n",
    "\n",
    "    # Initialize variables for prediction\n",
    "    weighted_rating_sum = 0\n",
    "    similarity_sum = 0\n",
    "\n",
    "    # Calculate the prediction for active user\n",
    "    for neighbor_id in top_neighbors:\n",
    "\n",
    "        # Get the neighbors rating for the chosen item\n",
    "        neighbor_item_rating = rating_matrix.at[neighbor_id, item_id]\n",
    "\n",
    "        # Get every given rating of the neighbor\n",
    "        all_neighbor_ratings = rating_matrix.loc[neighbor_id][rating_matrix.loc[neighbor_id] > 0]\n",
    "\n",
    "        # Calculate the difference between the chosen item rating and the user average\n",
    "        neighbor_mean = np.mean(all_neighbor_ratings)\n",
    "        rating_difference = neighbor_item_rating - neighbor_mean\n",
    "\n",
    "        # Combine the rating differences.\n",
    "        # The neighbor similarity calculated earlier is used as the weight.\n",
    "        weighted_rating_sum += rating_difference * neighbor_correlations[neighbor_id]\n",
    "        similarity_sum += abs(neighbor_correlations[neighbor_id])\n",
    "\n",
    "    # Avoid the case where we might divide by zero\n",
    "    if similarity_sum == 0:\n",
    "        return 0\n",
    "\n",
    "    # Calculate the prediction for the active user\n",
    "    active_user_mean = np.mean(active_user_ratings)\n",
    "    prediction = active_user_mean + (weighted_rating_sum / similarity_sum)\n",
    "\n",
    "    return prediction\n",
    "\n",
    "def create_recommendations(target_user):\n",
    "    movie_recommendations = {}\n",
    "\n",
    "    # Go through all the movies\n",
    "    for movie_id in rating_matrix.columns:\n",
    "        # Calculate a prediction for a movie that the target user hasn't rated yet\n",
    "        if rating_matrix.at[target_user, movie_id] == 0:\n",
    "            prediction = predict_rating(target_user, movie_id)\n",
    "            movie_recommendations[movie_id] = prediction\n",
    "\n",
    "    # Get the top 10 matching movies from the recommendations\n",
    "    top_recommendations = sorted(movie_recommendations, key=movie_recommendations.get, reverse=True)[:10]\n",
    "\n",
    "    return top_recommendations"
   ]
  }
 ],
 "metadata": {
  "kernelspec": {
   "display_name": "a2_venv",
   "language": "python",
   "name": "python3"
  },
  "language_info": {
   "codemirror_mode": {
    "name": "ipython",
    "version": 3
   },
   "file_extension": ".py",
   "mimetype": "text/x-python",
   "name": "python",
   "nbconvert_exporter": "python",
   "pygments_lexer": "ipython3",
   "version": "3.9.6"
  }
 },
 "nbformat": 4,
 "nbformat_minor": 2
}
